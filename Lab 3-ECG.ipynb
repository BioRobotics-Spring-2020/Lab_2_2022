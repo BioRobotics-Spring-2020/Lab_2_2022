{
 "cells": [
  {
   "cell_type": "markdown",
   "metadata": {},
   "source": [
    "# Lab 3: ECG \n",
    "This notebook goes through processing ECG Signals using NeuroKit."
   ]
  },
  {
   "cell_type": "code",
   "execution_count": null,
   "metadata": {},
   "outputs": [],
   "source": [
    "# Run only once\n",
    "!pip3 install neurokit2"
   ]
  },
  {
   "cell_type": "code",
   "execution_count": null,
   "metadata": {},
   "outputs": [],
   "source": [
    "import pandas as pd\n",
    "import scipy\n",
    "import sklearn\n",
    "import numpy as np\n",
    "import matplotlib.pyplot as plt\n",
    "import os\n",
    "import numpy as np\n",
    "import neurokit2 as nk\n",
    "import os\n",
    "plt.rcParams['figure.figsize'] = [15, 9]  # Larger images"
   ]
  },
  {
   "cell_type": "markdown",
   "metadata": {},
   "source": [
    "# ECG Procesing\n",
    "We are first going to read in raw ECG data from one lab member"
   ]
  },
  {
   "cell_type": "code",
   "execution_count": null,
   "metadata": {},
   "outputs": [],
   "source": [
    "directory = 'Data/'\n",
    "file = ...\n",
    "ecg_df = pd.read_csv(os.path.join(directory, file))\n",
    "ecg_df.index = pd.to_datetime(ecg_df['Timestamp'])\n",
    "\n",
    "'''Get the first 1-minute window'''\n",
    "ecg_df = ecg_df.loc[ecg_df.index[0]:ecg_df.index[50*60]]\n",
    "\n",
    "display(ecg_df)\n"
   ]
  },
  {
   "cell_type": "code",
   "execution_count": null,
   "metadata": {},
   "outputs": [],
   "source": [
    "# Automatically process the (raw) ECG signal\n",
    "signals, info = nk.ecg_process(ecg_df['ECG1'], sampling_rate=50)\n",
    "display(signals)\n",
    "display(info)"
   ]
  },
  {
   "cell_type": "code",
   "execution_count": null,
   "metadata": {},
   "outputs": [],
   "source": [
    "'''Plot raw and clean signals for 5 seconds (50hz signal)'''\n",
    "signals.iloc[0:250][['ECG_Raw', 'ECG_Clean']].plot()"
   ]
  },
  {
   "cell_type": "markdown",
   "metadata": {},
   "source": [
    "# Extract R-Peaks\n",
    "R-peaks are useful for multiple types of analyses."
   ]
  },
  {
   "cell_type": "code",
   "execution_count": null,
   "metadata": {},
   "outputs": [],
   "source": [
    "# Extract clean ECG and R-peaks location\n",
    "rpeaks = info[\"ECG_R_Peaks\"][0:8]\n",
    "cleaned_ecg = signals.iloc[0:250][\"ECG_Clean\"]\n",
    "# Visualize R-peaks in ECG signal\n",
    "plot = nk.events_plot(rpeaks, cleaned_ecg)"
   ]
  },
  {
   "cell_type": "markdown",
   "metadata": {},
   "source": [
    "# Segment the signal around heart-beats\n",
    "You can now epoch all these individual heart beats, synchronized by their R peaks with the [ecg_segment()](https://neurokit2.readthedocs.io/en/latest/functions.html#neurokit2.ecg_segment) function."
   ]
  },
  {
   "cell_type": "code",
   "execution_count": null,
   "metadata": {},
   "outputs": [],
   "source": [
    "# Plotting all the heart beats\n",
    "cleaned_ecg = signals[\"ECG_Clean\"]\n",
    "epochs = nk.ecg_segment(cleaned_ecg, rpeaks=None, sampling_rate=50, show=True)"
   ]
  },
  {
   "cell_type": "code",
   "execution_count": null,
   "metadata": {},
   "outputs": [],
   "source": [
    "# Delineate the ECG signal and visualizing all peaks of ECG complexes\n",
    "rpeaks = info[\"ECG_R_Peaks\"][0:8]\n",
    "cleaned_ecg = signals.iloc[0:250][\"ECG_Clean\"]\n",
    "_, waves_peak = nk.ecg_delineate(cleaned_ecg, rpeaks, sampling_rate=50, method=\"peak\", \n",
    "                                 show=True, show_type='peaks')"
   ]
  },
  {
   "cell_type": "markdown",
   "metadata": {},
   "source": [
    "# Heart-Rate Varability\n",
    "HRV tends to be a better indicator of workload/stress, so lets look at extracting useful information from it."
   ]
  },
  {
   "cell_type": "code",
   "execution_count": null,
   "metadata": {},
   "outputs": [],
   "source": [
    "# Extract clean EDA and SCR features\n",
    "rpeaks = info[\"ECG_R_Peaks\"]\n",
    "hrv_time = nk.hrv_time(rpeaks, sampling_rate=50, show=True)\n",
    "hrv_time"
   ]
  },
  {
   "cell_type": "markdown",
   "metadata": {},
   "source": [
    "These features include the RMSSD (square root of the mean of the sum of successive differences between adjacent RR intervals), MeanNN (mean of RR intervals) so on and so forth. You can also visualize the distribution of R-R intervals by specifying `show=True` in [hrv_time()](https://neurokit2.readthedocs.io/en/latest/functions.html#neurokit2.hrv_time)."
   ]
  },
  {
   "cell_type": "markdown",
   "metadata": {},
   "source": [
    "## Frequency-Domain\n",
    "We can also get frequency domain features from the signals"
   ]
  },
  {
   "cell_type": "code",
   "execution_count": null,
   "metadata": {},
   "outputs": [],
   "source": [
    "hrv_freq = nk.hrv_frequency(rpeaks, sampling_rate=50, show=True, normalize=True)\n",
    "hrv_freq"
   ]
  },
  {
   "cell_type": "code",
   "execution_count": null,
   "metadata": {},
   "outputs": [],
   "source": []
  },
  {
   "cell_type": "code",
   "execution_count": null,
   "metadata": {},
   "outputs": [],
   "source": []
  },
  {
   "cell_type": "markdown",
   "metadata": {},
   "source": [
    "# Your Turn:\n",
    "Now we are going to analyze the data for each participant and class"
   ]
  },
  {
   "cell_type": "code",
   "execution_count": null,
   "metadata": {},
   "outputs": [],
   "source": [
    "'''Step 1: Read in ECG data for each class and participant'''\n"
   ]
  },
  {
   "cell_type": "code",
   "execution_count": null,
   "metadata": {},
   "outputs": [],
   "source": [
    "'''Step 2: For each ECG recording, plot the timedomain and frequency domain information'''\n"
   ]
  },
  {
   "cell_type": "markdown",
   "metadata": {},
   "source": [
    "## Questions to answer\n",
    "In your lab report, answer the following questions\n",
    "\n",
    "1. What was the average heart-rate for each person/class (hint: look at the ecg_process dataframe)\n",
    "2. What is a R peak and why is it useful?\n",
    "3. What was the difference in HRV_Mean and HRV_SDNN between each class\n",
    "4. What was the difference in HRV_LFHF between each class\n",
    "5. What is HRV_LFHF and why is it useful?"
   ]
  }
 ],
 "metadata": {
  "kernelspec": {
   "display_name": "Python 3",
   "language": "python",
   "name": "python3"
  },
  "language_info": {
   "codemirror_mode": {
    "name": "ipython",
    "version": 3
   },
   "file_extension": ".py",
   "mimetype": "text/x-python",
   "name": "python",
   "nbconvert_exporter": "python",
   "pygments_lexer": "ipython3",
   "version": "3.8.8"
  }
 },
 "nbformat": 4,
 "nbformat_minor": 2
}
